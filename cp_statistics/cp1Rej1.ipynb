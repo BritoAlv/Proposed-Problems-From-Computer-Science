{
 "cells": [
  {
   "cell_type": "markdown",
   "metadata": {},
   "source": [
    "1 - Se denomina sesgo de un estimador a la diferencia entre la esperanza (valor esperado) del estimador y el verdadero valor del parámetro a estimar.\n",
    "\n",
    "2 - Un estimador es asintóticamente insesgado si su posible sesgo tiende a 0 al aumentar el tamaño muestral.\n",
    "\n",
    "3 - Un estimador es consistente si es asintóticamente insesgado y que además su varianza tienda a 0 al aumentar el tamaño muestral."
   ]
  },
  {
   "cell_type": "code",
   "execution_count": 1,
   "metadata": {
    "vscode": {
     "languageId": "r"
    }
   },
   "outputs": [
    {
     "data": {
      "image/png": "[encoded data removed]",
      "text/plain": [
       "Plot with title “Histogram of population”"
      ]
     },
     "metadata": {
      "image/png": {
       "height": 420,
       "width": 420
      }
     },
     "output_type": "display_data"
    }
   ],
   "source": [
    "proposed_mean <- 1\n",
    "proposed_sd <- 3\n",
    "\n",
    "population <- rnorm(n = 40000, mean = proposed_mean, sd = proposed_sd)\n",
    "hist(population)"
   ]
  },
  {
   "cell_type": "code",
   "execution_count": 2,
   "metadata": {
    "vscode": {
     "languageId": "r"
    }
   },
   "outputs": [],
   "source": [
    "number_observations <- 10000\n",
    "sample_size <- 2000\n",
    "samples <- list()\n",
    "for (i in 1:number_observations) {\n",
    "  samples[[i]] <- sample(population, sample_size)\n",
    "}\n"
   ]
  },
  {
   "cell_type": "code",
   "execution_count": 3,
   "metadata": {
    "vscode": {
     "languageId": "r"
    }
   },
   "outputs": [],
   "source": [
    "get_sesgo <- function(actual_value, estimator, sampleS)\n",
    "{\n",
    "    sesgo <-  mean(sapply(sampleS, estimator)) - actual_value \n",
    "    return(sesgo)\n",
    "}"
   ]
  },
  {
   "cell_type": "code",
   "execution_count": 4,
   "metadata": {
    "vscode": {
     "languageId": "r"
    }
   },
   "outputs": [],
   "source": [
    "get_variance <- function(estimator, sampleS)\n",
    "{\n",
    "    mean_estimator <- mean(sapply(sampleS, estimator))\n",
    "    variance <- mean(\n",
    "        sapply(\n",
    "            sapply(sampleS, estimator),\n",
    "            function(x) (x - mean_estimator)^2\n",
    "        )\n",
    "    )\n",
    "    \n",
    "    return(variance)\n",
    "}"
   ]
  },
  {
   "cell_type": "markdown",
   "metadata": {},
   "source": [
    "## Estimador $\\hat{X} = \\frac{1}{n}\\sum_{i = 1}^n x_i$"
   ]
  },
  {
   "cell_type": "markdown",
   "metadata": {},
   "source": [
    "En el caso de usar como estimador a la media no tiene sesgo porque:\n",
    "\n",
    "\\begin{align*}\n",
    "E[\\hat{X}] &= E[\\frac{1}{n}\\sum_{i = 1}^{n} x_i] \\\\\n",
    "           &= \\frac{1}{n}E[\\sum_{i = 1}^{n} x_i] \\\\\n",
    "           &= \\mu\n",
    "\\end{align*}\n",
    "\n",
    "\\begin{align*}\n",
    "b(\\hat{X}) &= E[\\hat{X}] - X \\\\\n",
    "           &= \\mu - \\mu \\\\\n",
    "           &= 0\n",
    "\\end{align*}\n",
    "\n",
    "Pero eso está duro porque eso means que el sesgo no depende de neither la cantidad de observaciones ni de el sample_size."
   ]
  },
  {
   "cell_type": "code",
   "execution_count": 5,
   "metadata": {
    "vscode": {
     "languageId": "r"
    }
   },
   "outputs": [
    {
     "name": "stdout",
     "output_type": "stream",
     "text": [
      "[1] 0.006111804\n",
      "[1] 0\n"
     ]
    }
   ],
   "source": [
    "actual_value_mean <- get_sesgo(proposed_mean, function(x) mean(x), samples)\n",
    "expected_value_mean <- 0\n",
    "\n",
    "print(actual_value_mean)\n",
    "print(expected_value_mean)"
   ]
  },
  {
   "cell_type": "markdown",
   "metadata": {},
   "source": [
    "Por tanto es insesgado, para saber si es consistente, es necesario calcular la varianza de el estimador en función de el sample_size."
   ]
  },
  {
   "cell_type": "markdown",
   "metadata": {},
   "source": [
    "La varianza es el cuadrado de la desviación estándar, es calculada para un estimador $\\hat{X}$:\n",
    "\n",
    "$$v(\\hat{X}) \\stackrel{:}{=} E[(\\hat{X} - E[\\hat{X}])²]$$  \n"
   ]
  },
  {
   "cell_type": "code",
   "execution_count": 6,
   "metadata": {
    "vscode": {
     "languageId": "r"
    }
   },
   "outputs": [
    {
     "name": "stdout",
     "output_type": "stream",
     "text": [
      "[1] 0.004304737\n",
      "[1] 0.0045\n"
     ]
    }
   ],
   "source": [
    "actual_value_variance <- get_variance(function(x) mean(x), samples)\n",
    "expected_value_variance <- proposed_sd^2 / sample_size\n",
    "\n",
    "print(actual_value_variance)\n",
    "\n",
    "print(expected_value_variance)"
   ]
  },
  {
   "cell_type": "markdown",
   "metadata": {},
   "source": [
    "El cálculo parece indicar que aumentando el tamaño de el sample_size el valor de la varianza tiende a 0, lo que significa que el estimador \"mean\" es consistente.\n",
    "\n",
    "\\begin{align*}\n",
    "\n",
    "v(\\hat{X}) &= v(\\frac{1}{n} \\sum_{i = 1}^n x_i) \\\\\n",
    "           &= \\frac{1}{n^2} \\sum_{i = 1}^n v(x_i) \\\\\n",
    "           &= \\frac{ \\sigma^2}{n} \n",
    "\n",
    "           \\end{align*}"
   ]
  },
  {
   "cell_type": "markdown",
   "metadata": {},
   "source": []
  },
  {
   "cell_type": "markdown",
   "metadata": {},
   "source": [
    "## Estimador  $\\hat{\\theta} = \\frac{1}{n^2}\\sum_{i = 1}^{n} x_i$"
   ]
  },
  {
   "cell_type": "markdown",
   "metadata": {},
   "source": [
    "Con respecto a el estimador: $\\hat{\\theta} = \\frac{1}{n^2}\\sum_{i = 1}^{n} x_i$ posee sesgo:\n",
    "\n",
    "$b(\\hat{\\theta}) = \\mu ( \\frac{1}{n} - 1)$\n",
    "\n",
    "Que converge a $-\\mu$, por lo que no es asintóticamente insesgado."
   ]
  },
  {
   "cell_type": "code",
   "execution_count": 7,
   "metadata": {
    "vscode": {
     "languageId": "r"
    }
   },
   "outputs": [
    {
     "name": "stdout",
     "output_type": "stream",
     "text": [
      "[1] -0.9994969\n",
      "[1] -0.9995\n"
     ]
    }
   ],
   "source": [
    "actual_value_est2 <- get_sesgo(\n",
    "    proposed_mean, \n",
    "    function(x) mean(x) / length(x), \n",
    "    samples\n",
    ")\n",
    "expected_value_est2 <- proposed_mean * (1 / sample_size - 1)\n",
    "\n",
    "print(actual_value_est2)\n",
    "print(expected_value_est2)"
   ]
  },
  {
   "cell_type": "code",
   "execution_count": 9,
   "metadata": {
    "vscode": {
     "languageId": "r"
    }
   },
   "outputs": [
    {
     "name": "stdout",
     "output_type": "stream",
     "text": [
      "[1] 0.000000001076184\n",
      "[1] 0.000000001125\n"
     ]
    }
   ],
   "source": [
    "actual_variance_est2 <- get_variance(function(x) mean(x) / length(x), samples)\n",
    "expected_variance_est2 <- proposed_sd^2 / sample_size^3\n",
    "\n",
    "print(actual_variance_est2)\n",
    "print(expected_variance_est2)"
   ]
  },
  {
   "cell_type": "markdown",
   "metadata": {},
   "source": [
    "La varianza converge a $0$, para ser consistente es necesario también que no tenga sesgo asintóticamente pero lo posee."
   ]
  },
  {
   "cell_type": "markdown",
   "metadata": {},
   "source": []
  }
 ],
 "metadata": {
  "kernelspec": {
   "display_name": "R",
   "language": "R",
   "name": "ir"
  },
  "language_info": {
   "codemirror_mode": "r",
   "file_extension": ".r",
   "mimetype": "text/x-r-source",
   "name": "R",
   "pygments_lexer": "r",
   "version": "4.3.1"
  }
 },
 "nbformat": 4,
 "nbformat_minor": 2
}
